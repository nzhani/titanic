{
 "cells": [
  {
   "cell_type": "code",
   "execution_count": 63,
   "id": "c969196d",
   "metadata": {},
   "outputs": [],
   "source": [
    "import pandas as pd\n",
    "import numpy as np\n",
    "from sklearn.model_selection import train_test_split, GridSearchCV\n",
    "from sklearn.preprocessing import MinMaxScaler\n",
    "from sklearn.neighbors import KNeighborsClassifier\n",
    "from sklearn.metrics import accuracy_score, confusion_matrix\n",
    "\n",
    "import matplotlib.pyplot as plt\n",
    "import seaborn as sns\n",
    "import kagglehub"
   ]
  },
  {
   "cell_type": "code",
   "execution_count": 64,
   "id": "6923defb",
   "metadata": {},
   "outputs": [],
   "source": [
    "path = kagglehub.dataset_download(\"brendan45774/test-file\") "
   ]
  },
  {
   "cell_type": "code",
   "execution_count": 65,
   "id": "ba52733f",
   "metadata": {},
   "outputs": [
    {
     "name": "stdout",
     "output_type": "stream",
     "text": [
      "Path to dataset files: /home/nurbol/.cache/kagglehub/datasets/brendan45774/test-file/versions/6\n"
     ]
    }
   ],
   "source": [
    "print(\"Path to dataset files:\", path)"
   ]
  },
  {
   "cell_type": "code",
   "execution_count": 66,
   "id": "1b0a7845",
   "metadata": {},
   "outputs": [
    {
     "name": "stdout",
     "output_type": "stream",
     "text": [
      "<class 'pandas.core.frame.DataFrame'>\n",
      "RangeIndex: 418 entries, 0 to 417\n",
      "Data columns (total 12 columns):\n",
      " #   Column       Non-Null Count  Dtype  \n",
      "---  ------       --------------  -----  \n",
      " 0   PassengerId  418 non-null    int64  \n",
      " 1   Survived     418 non-null    int64  \n",
      " 2   Pclass       418 non-null    int64  \n",
      " 3   Name         418 non-null    object \n",
      " 4   Sex          418 non-null    object \n",
      " 5   Age          332 non-null    float64\n",
      " 6   SibSp        418 non-null    int64  \n",
      " 7   Parch        418 non-null    int64  \n",
      " 8   Ticket       418 non-null    object \n",
      " 9   Fare         417 non-null    float64\n",
      " 10  Cabin        91 non-null     object \n",
      " 11  Embarked     418 non-null    object \n",
      "dtypes: float64(2), int64(5), object(5)\n",
      "memory usage: 39.3+ KB\n",
      "PassengerId      0\n",
      "Survived         0\n",
      "Pclass           0\n",
      "Name             0\n",
      "Sex              0\n",
      "Age             86\n",
      "SibSp            0\n",
      "Parch            0\n",
      "Ticket           0\n",
      "Fare             1\n",
      "Cabin          327\n",
      "Embarked         0\n",
      "dtype: int64\n"
     ]
    }
   ],
   "source": [
    "data = pd.read_csv(\"tested.csv\") # I moved csv into current folder\n",
    "data.info()\n",
    "print(data.isnull().sum())"
   ]
  },
  {
   "cell_type": "code",
   "execution_count": 67,
   "id": "85ae378e",
   "metadata": {},
   "outputs": [],
   "source": [
    "def preprocess_data(df):\n",
    "    df.drop(columns=[\"PassengerId\", \"Name\", \"Ticket\", \"Cabin\"], inplace=True)\n",
    "\n",
    "    df.drop(columns = [\"Embarked\"], inplace=True)\n",
    "    df[\"Sex\"] = df[\"Sex\"].map({'male':1, \"female\":0})\n",
    "    \n",
    "    df[\"FamilySize\"] = df[\"SibSp\"] + df[\"Parch\"]\n",
    "    df[\"isAlone\"] = np.where(df[\"FamilySize\"] == 0, 1, 0)\n",
    "\n",
    "    df['Pclass'] = df['Pclass'].astype(int)\n",
    " \n",
    "    df['Fare'] = df['Fare'].fillna(0).astype(int)  \n",
    "   \n",
    "    fare_means = df.pivot_table('Fare', index='Pclass', aggfunc='mean')\n",
    "    age_means = df.pivot_table('Age', index='Pclass', aggfunc='mean')\n",
    "    \n",
    " \n",
    "    df[\"Age\"] = df[['Age', 'Pclass']].apply(\n",
    "        lambda x: age_means.loc[x['Pclass']].values[0] if pd.isnull(x['Age']) else x['Age'], \n",
    "        axis=1\n",
    "    )  \n",
    "    print(df[\"Age\"].isnull().sum())\n",
    "    \n",
    "    df[\"Fare\"] = df[['Fare', 'Pclass']].apply(\n",
    "        lambda x: fare_means.loc[x['Pclass']].values[0] if pd.isnull(x['Fare']) else x['Fare'], \n",
    "        axis=1\n",
    "    )  \n",
    "    \n",
    "   \n",
    "    df[\"FareBin\"] = pd.qcut(df[\"Fare\"], 4, labels=False)\n",
    "    df[\"AgeBin\"] = pd.cut(df[\"Age\"], bins=[0, 12, 20, 40, 60, np.inf], labels=False)\n",
    "\n",
    "    return df"
   ]
  },
  {
   "cell_type": "code",
   "execution_count": 68,
   "id": "d49fb3bf",
   "metadata": {},
   "outputs": [
    {
     "name": "stdout",
     "output_type": "stream",
     "text": [
      "0\n"
     ]
    }
   ],
   "source": [
    "data = preprocess_data(data)"
   ]
  },
  {
   "cell_type": "code",
   "execution_count": 69,
   "id": "a9dabd7c",
   "metadata": {},
   "outputs": [
    {
     "name": "stdout",
     "output_type": "stream",
     "text": [
      "<class 'pandas.core.frame.DataFrame'>\n",
      "RangeIndex: 418 entries, 0 to 417\n",
      "Data columns (total 11 columns):\n",
      " #   Column      Non-Null Count  Dtype  \n",
      "---  ------      --------------  -----  \n",
      " 0   Survived    418 non-null    int64  \n",
      " 1   Pclass      418 non-null    int64  \n",
      " 2   Sex         418 non-null    int64  \n",
      " 3   Age         418 non-null    float64\n",
      " 4   SibSp       418 non-null    int64  \n",
      " 5   Parch       418 non-null    int64  \n",
      " 6   Fare        418 non-null    int64  \n",
      " 7   FamilySize  418 non-null    int64  \n",
      " 8   isAlone     418 non-null    int64  \n",
      " 9   FareBin     418 non-null    int64  \n",
      " 10  AgeBin      418 non-null    int64  \n",
      "dtypes: float64(1), int64(10)\n",
      "memory usage: 36.1 KB\n",
      "Survived      0\n",
      "Pclass        0\n",
      "Sex           0\n",
      "Age           0\n",
      "SibSp         0\n",
      "Parch         0\n",
      "Fare          0\n",
      "FamilySize    0\n",
      "isAlone       0\n",
      "FareBin       0\n",
      "AgeBin        0\n",
      "dtype: int64\n"
     ]
    }
   ],
   "source": [
    "data.info()\n",
    "print(data.isnull().sum())"
   ]
  },
  {
   "cell_type": "code",
   "execution_count": 72,
   "id": "e417e9ac",
   "metadata": {},
   "outputs": [],
   "source": [
    "X = data.drop(columns=[\"Survived\"])\n",
    "Y = data[\"Survived\"]\n",
    "\n",
    "X_train, X_test, Y_train, Y_test = train_test_split(X, Y, test_size=0.25, random_state=42)"
   ]
  },
  {
   "cell_type": "code",
   "execution_count": 73,
   "id": "6aa7d02c",
   "metadata": {},
   "outputs": [],
   "source": [
    "scaler = MinMaxScaler()\n",
    "X_train = scaler.fit_transform(X_train)\n",
    "X_test = scaler.transform(X_test)\n"
   ]
  },
  {
   "cell_type": "code",
   "execution_count": 77,
   "id": "115fdcd5",
   "metadata": {},
   "outputs": [],
   "source": [
    "#Hyperparameter Tuning - KNN \n",
    "def tun_mode(X_train, Y_train):\n",
    "    param_grid = {\n",
    "        \"n_neighbors\":range(1, 21), \n",
    "        \"metric\": [\"euclidean\", \"manhattan\", \"minkowski\"], \n",
    "        \"weights\": [\"uniform\", \"distance\"]\n",
    "    }\n",
    "    model = KNeighborsClassifier()\n",
    "    grid_search = GridSearchCV(model, param_grid, cv=5, n_jobs=-1)\n",
    "    grid_search.fit(X_train, Y_train)\n",
    "    return grid_search.best_estimator_\n"
   ]
  },
  {
   "cell_type": "code",
   "execution_count": 78,
   "id": "99988a7b",
   "metadata": {},
   "outputs": [],
   "source": [
    "best_model = tun_mode(X_train, Y_train)\n"
   ]
  },
  {
   "cell_type": "code",
   "execution_count": 80,
   "id": "a59be8c3",
   "metadata": {},
   "outputs": [],
   "source": [
    "def evaluate_model(model, X_test, Y_test):\n",
    "    prediction = model.predict(X_test)\n",
    "    accuracy = accuracy_score(Y_test, prediction)\n",
    "    matrix = confusion_matrix(Y_test, prediction)\n",
    "    return accuracy, matrix"
   ]
  },
  {
   "cell_type": "code",
   "execution_count": 83,
   "id": "1c4786b5",
   "metadata": {},
   "outputs": [
    {
     "name": "stdout",
     "output_type": "stream",
     "text": [
      "accuracy_score: 100.00\n",
      "confusion_matrix: \n",
      "[[69  0]\n",
      " [ 0 36]]\n"
     ]
    }
   ],
   "source": [
    "accuracy, matrix = evaluate_model(best_model, X_test, Y_test)\n",
    "\n",
    "print(f'accuracy_score: {accuracy*100:.2f}')\n",
    "print('confusion_matrix: ')\n",
    "print(matrix)"
   ]
  },
  {
   "cell_type": "code",
   "execution_count": 85,
   "id": "bba30bc5",
   "metadata": {},
   "outputs": [],
   "source": [
    "#Plot model\n",
    "def plot_model(matrix):\n",
    "    plt.figure(figsize=(10, 7))\n",
    "    sns.heatmap(matrix, annot=True, fmt=\"d\", xticklabels= [\"Survived\", \"Not Survived\"], yticklabels=[\"Not Survived\", \"Survived\"])\n",
    "    plt.title(\"Confusion Matrix\")\n",
    "    plt.xlabel(\"Predicted Value\")\n",
    "    plt.ylabel(\"True Values\")\n",
    "    plt.show()"
   ]
  },
  {
   "cell_type": "code",
   "execution_count": 86,
   "id": "b46ab0a1",
   "metadata": {},
   "outputs": [
    {
     "data": {
      "image/png": "[encoded data removed]",
      "text/plain": [
       "<Figure size 1000x700 with 2 Axes>"
      ]
     },
     "metadata": {},
     "output_type": "display_data"
    }
   ],
   "source": [
    "plot_model(matrix)"
   ]
  }
 ],
 "metadata": {
  "kernelspec": {
   "display_name": "ML",
   "language": "python",
   "name": "python3"
  },
  "language_info": {
   "codemirror_mode": {
    "name": "ipython",
    "version": 3
   },
   "file_extension": ".py",
   "mimetype": "text/x-python",
   "name": "python",
   "nbconvert_exporter": "python",
   "pygments_lexer": "ipython3",
   "version": "3.12.9"
  }
 },
 "nbformat": 4,
 "nbformat_minor": 5
}
